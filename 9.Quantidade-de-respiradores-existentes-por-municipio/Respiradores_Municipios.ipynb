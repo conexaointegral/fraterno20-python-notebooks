{
  "nbformat": 4,
  "nbformat_minor": 0,
  "metadata": {
    "colab": {
      "name": "Respiradores_Municipios.ipynb",
      "provenance": [],
      "collapsed_sections": [
        "-3naViDOviA_",
        "jZ8ltC8JxBZE",
        "v6NmeRwz2fpk"
      ]
    },
    "kernelspec": {
      "name": "python3",
      "display_name": "Python 3"
    }
  },
  "cells": [
    {
      "cell_type": "markdown",
      "metadata": {
        "id": "YfcFlKC1vP2B",
        "colab_type": "text"
      },
      "source": [
        "**Respiradores por município, dados do DataSUS**"
      ]
    },
    {
      "cell_type": "markdown",
      "metadata": {
        "id": "_XsYNIpEvMFM",
        "colab_type": "text"
      },
      "source": [
        "Libraries"
      ]
    },
    {
      "cell_type": "code",
      "metadata": {
        "id": "19omF3savIqQ",
        "colab_type": "code",
        "colab": {}
      },
      "source": [
        "import pandas as pd\n",
        "import numpy as np"
      ],
      "execution_count": 0,
      "outputs": []
    },
    {
      "cell_type": "markdown",
      "metadata": {
        "id": "-3naViDOviA_",
        "colab_type": "text"
      },
      "source": [
        "###Leitura de CSV's"
      ]
    },
    {
      "cell_type": "markdown",
      "metadata": {
        "id": "ixGWQlxyvxKz",
        "colab_type": "text"
      },
      "source": [
        "Leitos por município"
      ]
    },
    {
      "cell_type": "code",
      "metadata": {
        "id": "ystQ5QaFvhkr",
        "colab_type": "code",
        "outputId": "5a9caa07-76ba-453e-b0d5-124f47164281",
        "colab": {
          "base_uri": "https://localhost:8080/",
          "height": 107
        }
      },
      "source": [
        "respiradores = pd.read_csv(\"https://raw.githubusercontent.com/fraterno20/fraterno20-python-notebooks/master/Dataset/Dados-Primarios/respiradores_municipio.csv\", sep = \";\", encoding = \"iso-8859-1\")\n",
        "respiradores.columns = [\"city\",\"quantidade_existente\",\"quantidade_em_uso\",\"estab_c_eq_sus\"]\n",
        "respiradores.head(2)"
      ],
      "execution_count": 2,
      "outputs": [
        {
          "output_type": "execute_result",
          "data": {
            "text/html": [
              "<div>\n",
              "<style scoped>\n",
              "    .dataframe tbody tr th:only-of-type {\n",
              "        vertical-align: middle;\n",
              "    }\n",
              "\n",
              "    .dataframe tbody tr th {\n",
              "        vertical-align: top;\n",
              "    }\n",
              "\n",
              "    .dataframe thead th {\n",
              "        text-align: right;\n",
              "    }\n",
              "</style>\n",
              "<table border=\"1\" class=\"dataframe\">\n",
              "  <thead>\n",
              "    <tr style=\"text-align: right;\">\n",
              "      <th></th>\n",
              "      <th>city</th>\n",
              "      <th>quantidade_existente</th>\n",
              "      <th>quantidade_em_uso</th>\n",
              "      <th>estab_c_eq_sus</th>\n",
              "    </tr>\n",
              "  </thead>\n",
              "  <tbody>\n",
              "    <tr>\n",
              "      <th>0</th>\n",
              "      <td>110001 Alta Floresta D'Oeste</td>\n",
              "      <td>-</td>\n",
              "      <td>-</td>\n",
              "      <td>-</td>\n",
              "    </tr>\n",
              "    <tr>\n",
              "      <th>1</th>\n",
              "      <td>110037 Alto Alegre dos Parecis</td>\n",
              "      <td>-</td>\n",
              "      <td>-</td>\n",
              "      <td>-</td>\n",
              "    </tr>\n",
              "  </tbody>\n",
              "</table>\n",
              "</div>"
            ],
            "text/plain": [
              "                             city  ... estab_c_eq_sus\n",
              "0    110001 Alta Floresta D'Oeste  ...              -\n",
              "1  110037 Alto Alegre dos Parecis  ...              -\n",
              "\n",
              "[2 rows x 4 columns]"
            ]
          },
          "metadata": {
            "tags": []
          },
          "execution_count": 2
        }
      ]
    },
    {
      "cell_type": "markdown",
      "metadata": {
        "id": "vXC0ePAMv01u",
        "colab_type": "text"
      },
      "source": [
        "Dados de Lagitude e Longitude dos municípios "
      ]
    },
    {
      "cell_type": "code",
      "metadata": {
        "id": "zysl_XG6vwF0",
        "colab_type": "code",
        "outputId": "403845b8-9c11-4b56-c797-8864d6de42d4",
        "colab": {
          "base_uri": "https://localhost:8080/",
          "height": 107
        }
      },
      "source": [
        "city_lat_long =  pd.read_csv(\"https://raw.githubusercontent.com/fraterno20/fraterno20-python-notebooks/master/Dataset/Dados-Primarios/lat_long_municipios.csv\")\n",
        "city_lat_long.drop(columns = [\"capital\",\"Unnamed: 0\"], inplace = True)\n",
        "city_lat_long.rename(columns = {\"nome\":\"city\"},inplace = True)\n",
        "city_lat_long.head(2)"
      ],
      "execution_count": 3,
      "outputs": [
        {
          "output_type": "execute_result",
          "data": {
            "text/html": [
              "<div>\n",
              "<style scoped>\n",
              "    .dataframe tbody tr th:only-of-type {\n",
              "        vertical-align: middle;\n",
              "    }\n",
              "\n",
              "    .dataframe tbody tr th {\n",
              "        vertical-align: top;\n",
              "    }\n",
              "\n",
              "    .dataframe thead th {\n",
              "        text-align: right;\n",
              "    }\n",
              "</style>\n",
              "<table border=\"1\" class=\"dataframe\">\n",
              "  <thead>\n",
              "    <tr style=\"text-align: right;\">\n",
              "      <th></th>\n",
              "      <th>codigo_ibge</th>\n",
              "      <th>city</th>\n",
              "      <th>latitude</th>\n",
              "      <th>longitude</th>\n",
              "      <th>codigo_uf</th>\n",
              "    </tr>\n",
              "  </thead>\n",
              "  <tbody>\n",
              "    <tr>\n",
              "      <th>0</th>\n",
              "      <td>5200050</td>\n",
              "      <td>Abadia de Goiás</td>\n",
              "      <td>-16.7573</td>\n",
              "      <td>-49.4412</td>\n",
              "      <td>52</td>\n",
              "    </tr>\n",
              "    <tr>\n",
              "      <th>1</th>\n",
              "      <td>3100104</td>\n",
              "      <td>Abadia dos Dourados</td>\n",
              "      <td>-18.4831</td>\n",
              "      <td>-47.3916</td>\n",
              "      <td>31</td>\n",
              "    </tr>\n",
              "  </tbody>\n",
              "</table>\n",
              "</div>"
            ],
            "text/plain": [
              "   codigo_ibge                 city  latitude  longitude  codigo_uf\n",
              "0      5200050      Abadia de Goiás  -16.7573   -49.4412         52\n",
              "1      3100104  Abadia dos Dourados  -18.4831   -47.3916         31"
            ]
          },
          "metadata": {
            "tags": []
          },
          "execution_count": 3
        }
      ]
    },
    {
      "cell_type": "markdown",
      "metadata": {
        "id": "oEpE3j9rwcjX",
        "colab_type": "text"
      },
      "source": [
        "Base do IBGE, contendo código do município, nome do estado, do município, e o código do estado"
      ]
    },
    {
      "cell_type": "code",
      "metadata": {
        "id": "HurIxA8KwvSB",
        "colab_type": "code",
        "outputId": "9e4b209f-7203-4a0d-ce86-2d5e88ffd198",
        "colab": {
          "base_uri": "https://localhost:8080/",
          "height": 107
        }
      },
      "source": [
        "data_ibge = pd.read_csv(\"https://raw.githubusercontent.com/fraterno20/fraterno20-python-notebooks/master/Dataset/Dados-Primarios/dados_ibge.csv\")\n",
        "data_ibge.drop(columns = [\"Mesorregião Geográfica\",\"Nome_Mesorregião\",\"Microrregião Geográfica\",\"Nome_Microrregião\",\"Município\",\"Unnamed: 0\"], inplace = True)\n",
        "data_ibge.rename(columns = {\"Nome_Município\":\"city\",\"Nome_UF\":\"state\",\"UF\":\"codigo_uf\",\"Código Município Completo\":\"codigo_ibge\"},inplace = True)\n",
        "data_ibge.head(2)"
      ],
      "execution_count": 4,
      "outputs": [
        {
          "output_type": "execute_result",
          "data": {
            "text/html": [
              "<div>\n",
              "<style scoped>\n",
              "    .dataframe tbody tr th:only-of-type {\n",
              "        vertical-align: middle;\n",
              "    }\n",
              "\n",
              "    .dataframe tbody tr th {\n",
              "        vertical-align: top;\n",
              "    }\n",
              "\n",
              "    .dataframe thead th {\n",
              "        text-align: right;\n",
              "    }\n",
              "</style>\n",
              "<table border=\"1\" class=\"dataframe\">\n",
              "  <thead>\n",
              "    <tr style=\"text-align: right;\">\n",
              "      <th></th>\n",
              "      <th>codigo_uf</th>\n",
              "      <th>state</th>\n",
              "      <th>codigo_ibge</th>\n",
              "      <th>city</th>\n",
              "    </tr>\n",
              "  </thead>\n",
              "  <tbody>\n",
              "    <tr>\n",
              "      <th>0</th>\n",
              "      <td>11</td>\n",
              "      <td>Rondônia</td>\n",
              "      <td>1100015</td>\n",
              "      <td>Alta Floresta D'Oeste</td>\n",
              "    </tr>\n",
              "    <tr>\n",
              "      <th>1</th>\n",
              "      <td>11</td>\n",
              "      <td>Rondônia</td>\n",
              "      <td>1100379</td>\n",
              "      <td>Alto Alegre dos Parecis</td>\n",
              "    </tr>\n",
              "  </tbody>\n",
              "</table>\n",
              "</div>"
            ],
            "text/plain": [
              "   codigo_uf     state  codigo_ibge                     city\n",
              "0         11  Rondônia      1100015    Alta Floresta D'Oeste\n",
              "1         11  Rondônia      1100379  Alto Alegre dos Parecis"
            ]
          },
          "metadata": {
            "tags": []
          },
          "execution_count": 4
        }
      ]
    },
    {
      "cell_type": "markdown",
      "metadata": {
        "id": "jZ8ltC8JxBZE",
        "colab_type": "text"
      },
      "source": [
        "###Manipulação de dataframes"
      ]
    },
    {
      "cell_type": "markdown",
      "metadata": {
        "id": "tYMU7OsAxHh-",
        "colab_type": "text"
      },
      "source": [
        "Juntando a tabela da localização geográfica com a dos dados do ibge"
      ]
    },
    {
      "cell_type": "code",
      "metadata": {
        "id": "nNA__eDlxEa2",
        "colab_type": "code",
        "outputId": "3c00628e-0364-4435-af4c-5802e343936c",
        "colab": {
          "base_uri": "https://localhost:8080/",
          "height": 107
        }
      },
      "source": [
        "city_lat_long = city_lat_long.merge(data_ibge, on = [\"city\",\"codigo_ibge\",\"codigo_uf\"],sort = \"city\")\n",
        "city_lat_long.head(2)"
      ],
      "execution_count": 5,
      "outputs": [
        {
          "output_type": "execute_result",
          "data": {
            "text/html": [
              "<div>\n",
              "<style scoped>\n",
              "    .dataframe tbody tr th:only-of-type {\n",
              "        vertical-align: middle;\n",
              "    }\n",
              "\n",
              "    .dataframe tbody tr th {\n",
              "        vertical-align: top;\n",
              "    }\n",
              "\n",
              "    .dataframe thead th {\n",
              "        text-align: right;\n",
              "    }\n",
              "</style>\n",
              "<table border=\"1\" class=\"dataframe\">\n",
              "  <thead>\n",
              "    <tr style=\"text-align: right;\">\n",
              "      <th></th>\n",
              "      <th>codigo_ibge</th>\n",
              "      <th>city</th>\n",
              "      <th>latitude</th>\n",
              "      <th>longitude</th>\n",
              "      <th>codigo_uf</th>\n",
              "      <th>state</th>\n",
              "    </tr>\n",
              "  </thead>\n",
              "  <tbody>\n",
              "    <tr>\n",
              "      <th>0</th>\n",
              "      <td>5200050</td>\n",
              "      <td>Abadia de Goiás</td>\n",
              "      <td>-16.7573</td>\n",
              "      <td>-49.4412</td>\n",
              "      <td>52</td>\n",
              "      <td>Goiás</td>\n",
              "    </tr>\n",
              "    <tr>\n",
              "      <th>1</th>\n",
              "      <td>3100104</td>\n",
              "      <td>Abadia dos Dourados</td>\n",
              "      <td>-18.4831</td>\n",
              "      <td>-47.3916</td>\n",
              "      <td>31</td>\n",
              "      <td>Minas Gerais</td>\n",
              "    </tr>\n",
              "  </tbody>\n",
              "</table>\n",
              "</div>"
            ],
            "text/plain": [
              "   codigo_ibge                 city  ...  codigo_uf         state\n",
              "0      5200050      Abadia de Goiás  ...         52         Goiás\n",
              "1      3100104  Abadia dos Dourados  ...         31  Minas Gerais\n",
              "\n",
              "[2 rows x 6 columns]"
            ]
          },
          "metadata": {
            "tags": []
          },
          "execution_count": 5
        }
      ]
    },
    {
      "cell_type": "markdown",
      "metadata": {
        "id": "_ukNk0dLxKKN",
        "colab_type": "text"
      },
      "source": [
        "Usando Split para retirar o código do município"
      ]
    },
    {
      "cell_type": "code",
      "metadata": {
        "id": "VYaMJeIxxSEW",
        "colab_type": "code",
        "outputId": "5f71c6ca-6999-433b-aff1-941c787443c2",
        "colab": {
          "base_uri": "https://localhost:8080/",
          "height": 107
        }
      },
      "source": [
        "new = respiradores[\"city\"].str.split(\" \", n = 1, expand = True)\n",
        "respiradores[\"codigo_ibge\"] = new[0] #Dev sumiu com o ultimo digito de todos os codigos\n",
        "respiradores.drop(columns=[\"city\"], inplace = True)\n",
        "respiradores.head(2)"
      ],
      "execution_count": 6,
      "outputs": [
        {
          "output_type": "execute_result",
          "data": {
            "text/html": [
              "<div>\n",
              "<style scoped>\n",
              "    .dataframe tbody tr th:only-of-type {\n",
              "        vertical-align: middle;\n",
              "    }\n",
              "\n",
              "    .dataframe tbody tr th {\n",
              "        vertical-align: top;\n",
              "    }\n",
              "\n",
              "    .dataframe thead th {\n",
              "        text-align: right;\n",
              "    }\n",
              "</style>\n",
              "<table border=\"1\" class=\"dataframe\">\n",
              "  <thead>\n",
              "    <tr style=\"text-align: right;\">\n",
              "      <th></th>\n",
              "      <th>quantidade_existente</th>\n",
              "      <th>quantidade_em_uso</th>\n",
              "      <th>estab_c_eq_sus</th>\n",
              "      <th>codigo_ibge</th>\n",
              "    </tr>\n",
              "  </thead>\n",
              "  <tbody>\n",
              "    <tr>\n",
              "      <th>0</th>\n",
              "      <td>-</td>\n",
              "      <td>-</td>\n",
              "      <td>-</td>\n",
              "      <td>110001</td>\n",
              "    </tr>\n",
              "    <tr>\n",
              "      <th>1</th>\n",
              "      <td>-</td>\n",
              "      <td>-</td>\n",
              "      <td>-</td>\n",
              "      <td>110037</td>\n",
              "    </tr>\n",
              "  </tbody>\n",
              "</table>\n",
              "</div>"
            ],
            "text/plain": [
              "  quantidade_existente quantidade_em_uso estab_c_eq_sus codigo_ibge\n",
              "0                    -                 -              -      110001\n",
              "1                    -                 -              -      110037"
            ]
          },
          "metadata": {
            "tags": []
          },
          "execution_count": 6
        }
      ]
    },
    {
      "cell_type": "markdown",
      "metadata": {
        "id": "W3pb4rDtzHiP",
        "colab_type": "text"
      },
      "source": [
        "Retirando o último digito para manter a igualdade, já que os dados da datasus vieram faltando o útltimo dígito"
      ]
    },
    {
      "cell_type": "code",
      "metadata": {
        "id": "Py-SyBds2Gds",
        "colab_type": "code",
        "outputId": "b716b971-e650-4c1e-9673-4e702bb37439",
        "colab": {
          "base_uri": "https://localhost:8080/",
          "height": 107
        }
      },
      "source": [
        "city_lat_long[\"codigo_ibge\"] = city_lat_long[\"codigo_ibge\"].map(lambda x: str(x)[:-1])\n",
        "city_lat_long.head(2)"
      ],
      "execution_count": 7,
      "outputs": [
        {
          "output_type": "execute_result",
          "data": {
            "text/html": [
              "<div>\n",
              "<style scoped>\n",
              "    .dataframe tbody tr th:only-of-type {\n",
              "        vertical-align: middle;\n",
              "    }\n",
              "\n",
              "    .dataframe tbody tr th {\n",
              "        vertical-align: top;\n",
              "    }\n",
              "\n",
              "    .dataframe thead th {\n",
              "        text-align: right;\n",
              "    }\n",
              "</style>\n",
              "<table border=\"1\" class=\"dataframe\">\n",
              "  <thead>\n",
              "    <tr style=\"text-align: right;\">\n",
              "      <th></th>\n",
              "      <th>codigo_ibge</th>\n",
              "      <th>city</th>\n",
              "      <th>latitude</th>\n",
              "      <th>longitude</th>\n",
              "      <th>codigo_uf</th>\n",
              "      <th>state</th>\n",
              "    </tr>\n",
              "  </thead>\n",
              "  <tbody>\n",
              "    <tr>\n",
              "      <th>0</th>\n",
              "      <td>520005</td>\n",
              "      <td>Abadia de Goiás</td>\n",
              "      <td>-16.7573</td>\n",
              "      <td>-49.4412</td>\n",
              "      <td>52</td>\n",
              "      <td>Goiás</td>\n",
              "    </tr>\n",
              "    <tr>\n",
              "      <th>1</th>\n",
              "      <td>310010</td>\n",
              "      <td>Abadia dos Dourados</td>\n",
              "      <td>-18.4831</td>\n",
              "      <td>-47.3916</td>\n",
              "      <td>31</td>\n",
              "      <td>Minas Gerais</td>\n",
              "    </tr>\n",
              "  </tbody>\n",
              "</table>\n",
              "</div>"
            ],
            "text/plain": [
              "  codigo_ibge                 city  ...  codigo_uf         state\n",
              "0      520005      Abadia de Goiás  ...         52         Goiás\n",
              "1      310010  Abadia dos Dourados  ...         31  Minas Gerais\n",
              "\n",
              "[2 rows x 6 columns]"
            ]
          },
          "metadata": {
            "tags": []
          },
          "execution_count": 7
        }
      ]
    },
    {
      "cell_type": "markdown",
      "metadata": {
        "id": "2lKK1K6D2cEU",
        "colab_type": "text"
      },
      "source": [
        "Merge com a localização "
      ]
    },
    {
      "cell_type": "code",
      "metadata": {
        "id": "5pPwGVstzsRE",
        "colab_type": "code",
        "outputId": "989d8aa1-8682-429b-be62-14ee6e6529a7",
        "colab": {
          "base_uri": "https://localhost:8080/",
          "height": 107
        }
      },
      "source": [
        "respiradores = respiradores.merge(city_lat_long, on = [\"codigo_ibge\"], sort = \"city\", how = \"outer\")\n",
        "respiradores.dropna(subset=[\"state\"], inplace = True)\n",
        "respiradores.head(2)"
      ],
      "execution_count": 8,
      "outputs": [
        {
          "output_type": "execute_result",
          "data": {
            "text/html": [
              "<div>\n",
              "<style scoped>\n",
              "    .dataframe tbody tr th:only-of-type {\n",
              "        vertical-align: middle;\n",
              "    }\n",
              "\n",
              "    .dataframe tbody tr th {\n",
              "        vertical-align: top;\n",
              "    }\n",
              "\n",
              "    .dataframe thead th {\n",
              "        text-align: right;\n",
              "    }\n",
              "</style>\n",
              "<table border=\"1\" class=\"dataframe\">\n",
              "  <thead>\n",
              "    <tr style=\"text-align: right;\">\n",
              "      <th></th>\n",
              "      <th>quantidade_existente</th>\n",
              "      <th>quantidade_em_uso</th>\n",
              "      <th>estab_c_eq_sus</th>\n",
              "      <th>codigo_ibge</th>\n",
              "      <th>city</th>\n",
              "      <th>latitude</th>\n",
              "      <th>longitude</th>\n",
              "      <th>codigo_uf</th>\n",
              "      <th>state</th>\n",
              "    </tr>\n",
              "  </thead>\n",
              "  <tbody>\n",
              "    <tr>\n",
              "      <th>2</th>\n",
              "      <td>-</td>\n",
              "      <td>-</td>\n",
              "      <td>-</td>\n",
              "      <td>110001</td>\n",
              "      <td>Alta Floresta D'Oeste</td>\n",
              "      <td>-11.92830</td>\n",
              "      <td>-61.9953</td>\n",
              "      <td>11.0</td>\n",
              "      <td>Rondônia</td>\n",
              "    </tr>\n",
              "    <tr>\n",
              "      <th>3</th>\n",
              "      <td>49</td>\n",
              "      <td>49</td>\n",
              "      <td>7</td>\n",
              "      <td>110002</td>\n",
              "      <td>Ariquemes</td>\n",
              "      <td>-9.90571</td>\n",
              "      <td>-63.0325</td>\n",
              "      <td>11.0</td>\n",
              "      <td>Rondônia</td>\n",
              "    </tr>\n",
              "  </tbody>\n",
              "</table>\n",
              "</div>"
            ],
            "text/plain": [
              "  quantidade_existente quantidade_em_uso  ... codigo_uf     state\n",
              "2                    -                 -  ...      11.0  Rondônia\n",
              "3                   49                49  ...      11.0  Rondônia\n",
              "\n",
              "[2 rows x 9 columns]"
            ]
          },
          "metadata": {
            "tags": []
          },
          "execution_count": 8
        }
      ]
    },
    {
      "cell_type": "markdown",
      "metadata": {
        "id": "ky-T2mQh3Ayl",
        "colab_type": "text"
      },
      "source": [
        "Retirando valores nulos"
      ]
    },
    {
      "cell_type": "code",
      "metadata": {
        "id": "QCLdDJ_s3AN8",
        "colab_type": "code",
        "outputId": "70da23f9-ab0c-43de-ad6d-16a7e1d8573d",
        "colab": {
          "base_uri": "https://localhost:8080/",
          "height": 107
        }
      },
      "source": [
        "respiradores.replace(\"-\", 0, inplace = True)\n",
        "respiradores.replace(np.nan, 0, inplace = True)\n",
        "respiradores.head(2)"
      ],
      "execution_count": 9,
      "outputs": [
        {
          "output_type": "execute_result",
          "data": {
            "text/html": [
              "<div>\n",
              "<style scoped>\n",
              "    .dataframe tbody tr th:only-of-type {\n",
              "        vertical-align: middle;\n",
              "    }\n",
              "\n",
              "    .dataframe tbody tr th {\n",
              "        vertical-align: top;\n",
              "    }\n",
              "\n",
              "    .dataframe thead th {\n",
              "        text-align: right;\n",
              "    }\n",
              "</style>\n",
              "<table border=\"1\" class=\"dataframe\">\n",
              "  <thead>\n",
              "    <tr style=\"text-align: right;\">\n",
              "      <th></th>\n",
              "      <th>quantidade_existente</th>\n",
              "      <th>quantidade_em_uso</th>\n",
              "      <th>estab_c_eq_sus</th>\n",
              "      <th>codigo_ibge</th>\n",
              "      <th>city</th>\n",
              "      <th>latitude</th>\n",
              "      <th>longitude</th>\n",
              "      <th>codigo_uf</th>\n",
              "      <th>state</th>\n",
              "    </tr>\n",
              "  </thead>\n",
              "  <tbody>\n",
              "    <tr>\n",
              "      <th>2</th>\n",
              "      <td>0</td>\n",
              "      <td>0</td>\n",
              "      <td>0</td>\n",
              "      <td>110001</td>\n",
              "      <td>Alta Floresta D'Oeste</td>\n",
              "      <td>-11.92830</td>\n",
              "      <td>-61.9953</td>\n",
              "      <td>11.0</td>\n",
              "      <td>Rondônia</td>\n",
              "    </tr>\n",
              "    <tr>\n",
              "      <th>3</th>\n",
              "      <td>49</td>\n",
              "      <td>49</td>\n",
              "      <td>7</td>\n",
              "      <td>110002</td>\n",
              "      <td>Ariquemes</td>\n",
              "      <td>-9.90571</td>\n",
              "      <td>-63.0325</td>\n",
              "      <td>11.0</td>\n",
              "      <td>Rondônia</td>\n",
              "    </tr>\n",
              "  </tbody>\n",
              "</table>\n",
              "</div>"
            ],
            "text/plain": [
              "  quantidade_existente quantidade_em_uso  ... codigo_uf     state\n",
              "2                    0                 0  ...      11.0  Rondônia\n",
              "3                   49                49  ...      11.0  Rondônia\n",
              "\n",
              "[2 rows x 9 columns]"
            ]
          },
          "metadata": {
            "tags": []
          },
          "execution_count": 9
        }
      ]
    },
    {
      "cell_type": "markdown",
      "metadata": {
        "id": "v6NmeRwz2fpk",
        "colab_type": "text"
      },
      "source": [
        "###Download CSV"
      ]
    },
    {
      "cell_type": "code",
      "metadata": {
        "id": "pvzpCnV-2mJv",
        "colab_type": "code",
        "colab": {}
      },
      "source": [
        "respiradores.to_csv(\"respiradores_municipio.csv\")"
      ],
      "execution_count": 0,
      "outputs": []
    }
  ]
}