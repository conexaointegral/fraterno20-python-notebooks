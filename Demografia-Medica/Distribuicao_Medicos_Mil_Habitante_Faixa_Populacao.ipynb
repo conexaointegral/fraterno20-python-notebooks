{
  "nbformat": 4,
  "nbformat_minor": 0,
  "metadata": {
    "colab": {
      "name": "Distribuicao_Medicos_Mil_Habitante_Faixa_Populacao.ipynb",
      "provenance": [],
      "collapsed_sections": []
    },
    "kernelspec": {
      "name": "python3",
      "display_name": "Python 3"
    }
  },
  "cells": [
    {
      "cell_type": "markdown",
      "metadata": {
        "id": "zYZxbAkVs8Sz",
        "colab_type": "text"
      },
      "source": [
        "**Distribuição de médicos e razão quantidade de médicos por mil habitantes**"
      ]
    },
    {
      "cell_type": "markdown",
      "metadata": {
        "id": "CUacQXsBo8jV",
        "colab_type": "text"
      },
      "source": [
        "Extração de PDF"
      ]
    },
    {
      "cell_type": "code",
      "metadata": {
        "id": "2ZshHbJxo3n4",
        "colab_type": "code",
        "outputId": "d4e98121-8bdb-4d0b-e4d2-4d91823b2340",
        "colab": {
          "base_uri": "https://localhost:8080/",
          "height": 250
        }
      },
      "source": [
        "pip install tabula-py"
      ],
      "execution_count": 0,
      "outputs": [
        {
          "output_type": "stream",
          "text": [
            "Collecting tabula-py\n",
            "\u001b[?25l  Downloading https://files.pythonhosted.org/packages/53/a4/66add528eca00398af98f181772006750019eb9f2d68c7c6fdd53ba661c5/tabula_py-2.1.0-py3-none-any.whl (10.4MB)\n",
            "\u001b[K     |████████████████████████████████| 10.4MB 416kB/s \n",
            "\u001b[?25hCollecting distro\n",
            "  Downloading https://files.pythonhosted.org/packages/25/b7/b3c4270a11414cb22c6352ebc7a83aaa3712043be29daa05018fd5a5c956/distro-1.5.0-py2.py3-none-any.whl\n",
            "Requirement already satisfied: numpy in /usr/local/lib/python3.6/dist-packages (from tabula-py) (1.18.2)\n",
            "Requirement already satisfied: pandas>=0.25.3 in /usr/local/lib/python3.6/dist-packages (from tabula-py) (1.0.3)\n",
            "Requirement already satisfied: python-dateutil>=2.6.1 in /usr/local/lib/python3.6/dist-packages (from pandas>=0.25.3->tabula-py) (2.8.1)\n",
            "Requirement already satisfied: pytz>=2017.2 in /usr/local/lib/python3.6/dist-packages (from pandas>=0.25.3->tabula-py) (2018.9)\n",
            "Requirement already satisfied: six>=1.5 in /usr/local/lib/python3.6/dist-packages (from python-dateutil>=2.6.1->pandas>=0.25.3->tabula-py) (1.12.0)\n",
            "Installing collected packages: distro, tabula-py\n",
            "Successfully installed distro-1.5.0 tabula-py-2.1.0\n"
          ],
          "name": "stdout"
        }
      ]
    },
    {
      "cell_type": "markdown",
      "metadata": {
        "id": "sz0cxjVbq_Dk",
        "colab_type": "text"
      },
      "source": [
        "Libraries"
      ]
    },
    {
      "cell_type": "code",
      "metadata": {
        "id": "JXsRGcrFpBxa",
        "colab_type": "code",
        "colab": {}
      },
      "source": [
        "import tabula\n",
        "import pandas as pd"
      ],
      "execution_count": 0,
      "outputs": []
    },
    {
      "cell_type": "markdown",
      "metadata": {
        "id": "qDr5aDXspIqo",
        "colab_type": "text"
      },
      "source": [
        "Path"
      ]
    },
    {
      "cell_type": "code",
      "metadata": {
        "id": "nQ9Rb6TKpFXY",
        "colab_type": "code",
        "colab": {}
      },
      "source": [
        "url = \"estudo-medico.pdf\""
      ],
      "execution_count": 0,
      "outputs": []
    },
    {
      "cell_type": "markdown",
      "metadata": {
        "id": "qWbaogs3rHKu",
        "colab_type": "text"
      },
      "source": [
        "Extração do pdf, renomeando colunas"
      ]
    },
    {
      "cell_type": "code",
      "metadata": {
        "id": "TNuq6xy_pOlL",
        "colab_type": "code",
        "outputId": "66b42c5f-4e31-4ae8-c0e1-f4179b5f84ed",
        "colab": {
          "base_uri": "https://localhost:8080/",
          "height": 197
        }
      },
      "source": [
        "medicos_dist_faixa_populacao = tabula.read_pdf(url, stream=True, guess=False, pages=52, \n",
        "                     area=(630, 60, 779, 660))[0]\n",
        "\n",
        "medicos_dist_faixa_populacao.columns = [\"populacao_por_municipio\",\"n_municipios\",\"n_medicos\",\"populacao_do_estrato\",\"razao_de_medico_por_mil_hab_por_faixa\"]\n",
        "\n",
        "medicos_dist_faixa_populacao.head()"
      ],
      "execution_count": 0,
      "outputs": [
        {
          "output_type": "execute_result",
          "data": {
            "text/html": [
              "<div>\n",
              "<style scoped>\n",
              "    .dataframe tbody tr th:only-of-type {\n",
              "        vertical-align: middle;\n",
              "    }\n",
              "\n",
              "    .dataframe tbody tr th {\n",
              "        vertical-align: top;\n",
              "    }\n",
              "\n",
              "    .dataframe thead th {\n",
              "        text-align: right;\n",
              "    }\n",
              "</style>\n",
              "<table border=\"1\" class=\"dataframe\">\n",
              "  <thead>\n",
              "    <tr style=\"text-align: right;\">\n",
              "      <th></th>\n",
              "      <th>populacao_por_municipio</th>\n",
              "      <th>n_municipios</th>\n",
              "      <th>n_medicos</th>\n",
              "      <th>populacao_do_estrato</th>\n",
              "      <th>razao_de_medico_por_mil_hab_por_faixa</th>\n",
              "    </tr>\n",
              "  </thead>\n",
              "  <tbody>\n",
              "    <tr>\n",
              "      <th>0</th>\n",
              "      <td>Até 5 mil</td>\n",
              "      <td>1.235</td>\n",
              "      <td>1.273</td>\n",
              "      <td>4.184.601</td>\n",
              "      <td>0,30</td>\n",
              "    </tr>\n",
              "    <tr>\n",
              "      <th>1</th>\n",
              "      <td>5 a 10 mil</td>\n",
              "      <td>1.215</td>\n",
              "      <td>2.796</td>\n",
              "      <td>8.664.121</td>\n",
              "      <td>0,32</td>\n",
              "    </tr>\n",
              "    <tr>\n",
              "      <th>2</th>\n",
              "      <td>10 a 20 mil</td>\n",
              "      <td>1.352</td>\n",
              "      <td>7.588</td>\n",
              "      <td>19.379.074</td>\n",
              "      <td>0,39</td>\n",
              "    </tr>\n",
              "    <tr>\n",
              "      <th>3</th>\n",
              "      <td>20 a 50 mil</td>\n",
              "      <td>1.103</td>\n",
              "      <td>22.364</td>\n",
              "      <td>33.526.377</td>\n",
              "      <td>0,67</td>\n",
              "    </tr>\n",
              "    <tr>\n",
              "      <th>4</th>\n",
              "      <td>50 a 100 mil</td>\n",
              "      <td>355.000</td>\n",
              "      <td>28.618</td>\n",
              "      <td>24.658.771</td>\n",
              "      <td>1,16</td>\n",
              "    </tr>\n",
              "  </tbody>\n",
              "</table>\n",
              "</div>"
            ],
            "text/plain": [
              "  populacao_por_municipio  ...  razao_de_medico_por_mil_hab_por_faixa\n",
              "0               Até 5 mil  ...                                   0,30\n",
              "1              5 a 10 mil  ...                                   0,32\n",
              "2             10 a 20 mil  ...                                   0,39\n",
              "3             20 a 50 mil  ...                                   0,67\n",
              "4            50 a 100 mil  ...                                   1,16\n",
              "\n",
              "[5 rows x 5 columns]"
            ]
          },
          "metadata": {
            "tags": []
          },
          "execution_count": 5
        }
      ]
    },
    {
      "cell_type": "markdown",
      "metadata": {
        "id": "FBNRktmusnx2",
        "colab_type": "text"
      },
      "source": [
        "Download CSV"
      ]
    },
    {
      "cell_type": "code",
      "metadata": {
        "id": "IPTt9tHppSbM",
        "colab_type": "code",
        "colab": {}
      },
      "source": [
        "medicos_dist_faixa_populacao.to_csv(\"medicos_dist_faixa_populacao.csv\")"
      ],
      "execution_count": 0,
      "outputs": []
    }
  ]
}