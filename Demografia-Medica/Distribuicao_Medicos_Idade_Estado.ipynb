{
  "nbformat": 4,
  "nbformat_minor": 0,
  "metadata": {
    "colab": {
      "name": "Distribuicao_Medicos_Idade_Estado.ipynb",
      "provenance": [],
      "collapsed_sections": []
    },
    "kernelspec": {
      "name": "python3",
      "display_name": "Python 3"
    }
  },
  "cells": [
    {
      "cell_type": "markdown",
      "metadata": {
        "id": "YTWLSStwtCUh",
        "colab_type": "text"
      },
      "source": [
        "**Distribuição de médicos por idade e estado**"
      ]
    },
    {
      "cell_type": "markdown",
      "metadata": {
        "id": "CUacQXsBo8jV",
        "colab_type": "text"
      },
      "source": [
        "Extração de PDF"
      ]
    },
    {
      "cell_type": "code",
      "metadata": {
        "id": "2ZshHbJxo3n4",
        "colab_type": "code",
        "outputId": "f90b5a6a-d907-470c-bdb7-49157ecde6f4",
        "colab": {
          "base_uri": "https://localhost:8080/",
          "height": 250
        }
      },
      "source": [
        "pip install tabula-py"
      ],
      "execution_count": 0,
      "outputs": [
        {
          "output_type": "stream",
          "text": [
            "Collecting tabula-py\n",
            "\u001b[?25l  Downloading https://files.pythonhosted.org/packages/53/a4/66add528eca00398af98f181772006750019eb9f2d68c7c6fdd53ba661c5/tabula_py-2.1.0-py3-none-any.whl (10.4MB)\n",
            "\u001b[K     |████████████████████████████████| 10.4MB 2.0MB/s \n",
            "\u001b[?25hCollecting distro\n",
            "  Downloading https://files.pythonhosted.org/packages/25/b7/b3c4270a11414cb22c6352ebc7a83aaa3712043be29daa05018fd5a5c956/distro-1.5.0-py2.py3-none-any.whl\n",
            "Requirement already satisfied: numpy in /usr/local/lib/python3.6/dist-packages (from tabula-py) (1.18.2)\n",
            "Requirement already satisfied: pandas>=0.25.3 in /usr/local/lib/python3.6/dist-packages (from tabula-py) (1.0.3)\n",
            "Requirement already satisfied: pytz>=2017.2 in /usr/local/lib/python3.6/dist-packages (from pandas>=0.25.3->tabula-py) (2018.9)\n",
            "Requirement already satisfied: python-dateutil>=2.6.1 in /usr/local/lib/python3.6/dist-packages (from pandas>=0.25.3->tabula-py) (2.8.1)\n",
            "Requirement already satisfied: six>=1.5 in /usr/local/lib/python3.6/dist-packages (from python-dateutil>=2.6.1->pandas>=0.25.3->tabula-py) (1.12.0)\n",
            "Installing collected packages: distro, tabula-py\n",
            "Successfully installed distro-1.5.0 tabula-py-2.1.0\n"
          ],
          "name": "stdout"
        }
      ]
    },
    {
      "cell_type": "markdown",
      "metadata": {
        "id": "sz0cxjVbq_Dk",
        "colab_type": "text"
      },
      "source": [
        "Libraries"
      ]
    },
    {
      "cell_type": "code",
      "metadata": {
        "id": "JXsRGcrFpBxa",
        "colab_type": "code",
        "colab": {}
      },
      "source": [
        "import tabula\n",
        "import pandas as pd"
      ],
      "execution_count": 0,
      "outputs": []
    },
    {
      "cell_type": "markdown",
      "metadata": {
        "id": "qDr5aDXspIqo",
        "colab_type": "text"
      },
      "source": [
        "Path"
      ]
    },
    {
      "cell_type": "code",
      "metadata": {
        "id": "nQ9Rb6TKpFXY",
        "colab_type": "code",
        "colab": {}
      },
      "source": [
        "url = \"estudo-medico.pdf\""
      ],
      "execution_count": 0,
      "outputs": []
    },
    {
      "cell_type": "markdown",
      "metadata": {
        "id": "qWbaogs3rHKu",
        "colab_type": "text"
      },
      "source": [
        "Extração do pdf, renomeando colunas"
      ]
    },
    {
      "cell_type": "code",
      "metadata": {
        "id": "TNuq6xy_pOlL",
        "colab_type": "code",
        "outputId": "b4564f65-c180-49c2-e127-8d1215d8e5e1",
        "colab": {
          "base_uri": "https://localhost:8080/",
          "height": 197
        }
      },
      "source": [
        "medicos_dist_idade_estado = tabula.read_pdf(url, stream=True, guess=False, pages=43, \n",
        "                                            area=(265, 20, 740, 445))[0]\n",
        "medicos_dist_idade_estado.columns = [\"sigla_state\", \"media\", \"desvio_padrao\"]                          \n",
        "medicos_dist_idade_estado.head()   "
      ],
      "execution_count": 0,
      "outputs": [
        {
          "output_type": "execute_result",
          "data": {
            "text/html": [
              "<div>\n",
              "<style scoped>\n",
              "    .dataframe tbody tr th:only-of-type {\n",
              "        vertical-align: middle;\n",
              "    }\n",
              "\n",
              "    .dataframe tbody tr th {\n",
              "        vertical-align: top;\n",
              "    }\n",
              "\n",
              "    .dataframe thead th {\n",
              "        text-align: right;\n",
              "    }\n",
              "</style>\n",
              "<table border=\"1\" class=\"dataframe\">\n",
              "  <thead>\n",
              "    <tr style=\"text-align: right;\">\n",
              "      <th></th>\n",
              "      <th>sigla_state</th>\n",
              "      <th>media</th>\n",
              "      <th>desvio_padrao</th>\n",
              "    </tr>\n",
              "  </thead>\n",
              "  <tbody>\n",
              "    <tr>\n",
              "      <th>0</th>\n",
              "      <td>Alagoas</td>\n",
              "      <td>49,5</td>\n",
              "      <td>13,9</td>\n",
              "    </tr>\n",
              "    <tr>\n",
              "      <th>1</th>\n",
              "      <td>Paraíba</td>\n",
              "      <td>47,5</td>\n",
              "      <td>15,0</td>\n",
              "    </tr>\n",
              "    <tr>\n",
              "      <th>2</th>\n",
              "      <td>Rio de Janeiro</td>\n",
              "      <td>47,3</td>\n",
              "      <td>14,1</td>\n",
              "    </tr>\n",
              "    <tr>\n",
              "      <th>3</th>\n",
              "      <td>Amapá</td>\n",
              "      <td>46,7</td>\n",
              "      <td>13,4</td>\n",
              "    </tr>\n",
              "    <tr>\n",
              "      <th>4</th>\n",
              "      <td>Rio Grande do Sul</td>\n",
              "      <td>46,4</td>\n",
              "      <td>13,9</td>\n",
              "    </tr>\n",
              "  </tbody>\n",
              "</table>\n",
              "</div>"
            ],
            "text/plain": [
              "         sigla_state media desvio_padrao\n",
              "0            Alagoas  49,5          13,9\n",
              "1            Paraíba  47,5          15,0\n",
              "2     Rio de Janeiro  47,3          14,1\n",
              "3              Amapá  46,7          13,4\n",
              "4  Rio Grande do Sul  46,4          13,9"
            ]
          },
          "metadata": {
            "tags": []
          },
          "execution_count": 4
        }
      ]
    },
    {
      "cell_type": "markdown",
      "metadata": {
        "id": "FBNRktmusnx2",
        "colab_type": "text"
      },
      "source": [
        "Download CSV"
      ]
    },
    {
      "cell_type": "code",
      "metadata": {
        "id": "IPTt9tHppSbM",
        "colab_type": "code",
        "colab": {}
      },
      "source": [
        "medicos_dist_idade_estado.to_csv(\"medicos_dist_idade_estado.csv\")"
      ],
      "execution_count": 0,
      "outputs": []
    }
  ]
}