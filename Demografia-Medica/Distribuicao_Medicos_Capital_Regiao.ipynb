{
  "nbformat": 4,
  "nbformat_minor": 0,
  "metadata": {
    "colab": {
      "name": "Distribuicao_Medicos_Capital_Regiao.ipynb",
      "provenance": [],
      "collapsed_sections": []
    },
    "kernelspec": {
      "name": "python3",
      "display_name": "Python 3"
    }
  },
  "cells": [
    {
      "cell_type": "markdown",
      "metadata": {
        "id": "zYZxbAkVs8Sz",
        "colab_type": "text"
      },
      "source": [
        "**Distribuição de médicos por capitais e regiões**"
      ]
    },
    {
      "cell_type": "markdown",
      "metadata": {
        "id": "CUacQXsBo8jV",
        "colab_type": "text"
      },
      "source": [
        "Extração de PDF"
      ]
    },
    {
      "cell_type": "code",
      "metadata": {
        "id": "2ZshHbJxo3n4",
        "colab_type": "code",
        "outputId": "217218b5-4624-4675-d8f3-744d233740cb",
        "colab": {
          "base_uri": "https://localhost:8080/",
          "height": 230
        }
      },
      "source": [
        "pip install tabula-py"
      ],
      "execution_count": 0,
      "outputs": [
        {
          "output_type": "stream",
          "text": [
            "Collecting tabula-py\n",
            "\u001b[?25l  Downloading https://files.pythonhosted.org/packages/53/a4/66add528eca00398af98f181772006750019eb9f2d68c7c6fdd53ba661c5/tabula_py-2.1.0-py3-none-any.whl (10.4MB)\n",
            "\u001b[K     |████████████████████████████████| 10.4MB 2.8MB/s \n",
            "\u001b[?25hCollecting distro\n",
            "  Downloading https://files.pythonhosted.org/packages/25/b7/b3c4270a11414cb22c6352ebc7a83aaa3712043be29daa05018fd5a5c956/distro-1.5.0-py2.py3-none-any.whl\n",
            "Requirement already satisfied: numpy in /usr/local/lib/python3.6/dist-packages (from tabula-py) (1.18.2)\n",
            "Requirement already satisfied: pandas>=0.25.3 in /usr/local/lib/python3.6/dist-packages (from tabula-py) (1.0.3)\n",
            "Requirement already satisfied: python-dateutil>=2.6.1 in /usr/local/lib/python3.6/dist-packages (from pandas>=0.25.3->tabula-py) (2.8.1)\n",
            "Requirement already satisfied: pytz>=2017.2 in /usr/local/lib/python3.6/dist-packages (from pandas>=0.25.3->tabula-py) (2018.9)\n",
            "Requirement already satisfied: six>=1.5 in /usr/local/lib/python3.6/dist-packages (from python-dateutil>=2.6.1->pandas>=0.25.3->tabula-py) (1.12.0)\n",
            "Installing collected packages: distro, tabula-py\n",
            "Successfully installed distro-1.5.0 tabula-py-2.1.0\n"
          ],
          "name": "stdout"
        }
      ]
    },
    {
      "cell_type": "markdown",
      "metadata": {
        "id": "sz0cxjVbq_Dk",
        "colab_type": "text"
      },
      "source": [
        "Libraries"
      ]
    },
    {
      "cell_type": "code",
      "metadata": {
        "id": "JXsRGcrFpBxa",
        "colab_type": "code",
        "colab": {}
      },
      "source": [
        "import tabula\n",
        "import pandas as pd"
      ],
      "execution_count": 0,
      "outputs": []
    },
    {
      "cell_type": "markdown",
      "metadata": {
        "id": "qDr5aDXspIqo",
        "colab_type": "text"
      },
      "source": [
        "Path"
      ]
    },
    {
      "cell_type": "code",
      "metadata": {
        "id": "nQ9Rb6TKpFXY",
        "colab_type": "code",
        "colab": {}
      },
      "source": [
        "url = \"estudo_medico.pdf\""
      ],
      "execution_count": 0,
      "outputs": []
    },
    {
      "cell_type": "markdown",
      "metadata": {
        "id": "qWbaogs3rHKu",
        "colab_type": "text"
      },
      "source": [
        "Extração do pdf, renomeando colunas"
      ]
    },
    {
      "cell_type": "code",
      "metadata": {
        "id": "TNuq6xy_pOlL",
        "colab_type": "code",
        "colab": {}
      },
      "source": [
        "medicos_dist_capital_regiao1 = tabula.read_pdf(url, stream=True, guess=False, pages=48, \n",
        "                     area=(100, 60, 740, 560))[0]\n",
        "medicos_dist_capital_regiao2 = tabula.read_pdf(url, stream=True, guess=False, pages=49, \n",
        "                     area=(110, 60, 760, 560))[0]                     \n",
        "medicos_dist_capital_regiao = pd.concat([medicos_dist_capital_regiao1,medicos_dist_capital_regiao2], ignore_index=True)\n",
        "\n",
        "medicos_dist_capital_regiao.columns = [\"city\",\"quantidade_medicos\",\"%medicos_em_relação_ao_estado\",\"%medicos_em_relação_ao_pais\",\"population\",\n",
        "                                       \"%population_em_relação_ao_pais\",\"razao_de_medicos_por_mil_habitantes_por_capital\"]\n",
        "medicos_dist_capital_regiao.head()"
      ],
      "execution_count": 0,
      "outputs": []
    },
    {
      "cell_type": "markdown",
      "metadata": {
        "id": "FBNRktmusnx2",
        "colab_type": "text"
      },
      "source": [
        "Download CSV"
      ]
    },
    {
      "cell_type": "code",
      "metadata": {
        "id": "IPTt9tHppSbM",
        "colab_type": "code",
        "colab": {}
      },
      "source": [
        "medicos_dist_capital_regiao.to_csv(\"medicos_dist_capital_regiao.csv\")"
      ],
      "execution_count": 0,
      "outputs": []
    }
  ]
}