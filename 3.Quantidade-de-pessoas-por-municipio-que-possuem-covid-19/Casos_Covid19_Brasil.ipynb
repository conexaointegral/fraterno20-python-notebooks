{
  "nbformat": 4,
  "nbformat_minor": 0,
  "metadata": {
    "colab": {
      "name": "Casos_Covid19_Brasil.ipynb",
      "provenance": [],
      "collapsed_sections": []
    },
    "kernelspec": {
      "name": "python3",
      "display_name": "Python 3"
    }
  },
  "cells": [
    {
      "cell_type": "markdown",
      "metadata": {
        "id": "YfcFlKC1vP2B",
        "colab_type": "text"
      },
      "source": [
        "**Dados de casos de COVID 19 no Brasil por município e estado**"
      ]
    },
    {
      "cell_type": "markdown",
      "metadata": {
        "id": "_XsYNIpEvMFM",
        "colab_type": "text"
      },
      "source": [
        "Libraries"
      ]
    },
    {
      "cell_type": "code",
      "metadata": {
        "id": "19omF3savIqQ",
        "colab_type": "code",
        "colab": {}
      },
      "source": [
        "import pandas as pd\n",
        "import numpy as np"
      ],
      "execution_count": 0,
      "outputs": []
    },
    {
      "cell_type": "markdown",
      "metadata": {
        "id": "-3naViDOviA_",
        "colab_type": "text"
      },
      "source": [
        "###Leitura de CSV's"
      ]
    },
    {
      "cell_type": "markdown",
      "metadata": {
        "id": "ixGWQlxyvxKz",
        "colab_type": "text"
      },
      "source": [
        "Base de dados do Brasil IO"
      ]
    },
    {
      "cell_type": "code",
      "metadata": {
        "id": "ystQ5QaFvhkr",
        "colab_type": "code",
        "outputId": "51b909ad-24a1-4cc6-fcdb-18358313e99a",
        "colab": {
          "base_uri": "https://localhost:8080/",
          "height": 107
        }
      },
      "source": [
        "data_brasil = pd.read_csv('https://data.brasil.io/dataset/covid19/caso.csv.gz', compression='gzip', header=0, quotechar='\"', error_bad_lines=False)\n",
        "data_brasil.rename(columns={\"city_ibge_code\":\"codigo_ibge\",\"state\":\"sigla_state\",\"estimated_population_2019\":\"population\"},inplace = True)\n",
        "data_brasil.head(2)"
      ],
      "execution_count": 2,
      "outputs": [
        {
          "output_type": "execute_result",
          "data": {
            "text/html": [
              "<div>\n",
              "<style scoped>\n",
              "    .dataframe tbody tr th:only-of-type {\n",
              "        vertical-align: middle;\n",
              "    }\n",
              "\n",
              "    .dataframe tbody tr th {\n",
              "        vertical-align: top;\n",
              "    }\n",
              "\n",
              "    .dataframe thead th {\n",
              "        text-align: right;\n",
              "    }\n",
              "</style>\n",
              "<table border=\"1\" class=\"dataframe\">\n",
              "  <thead>\n",
              "    <tr style=\"text-align: right;\">\n",
              "      <th></th>\n",
              "      <th>date</th>\n",
              "      <th>sigla_state</th>\n",
              "      <th>city</th>\n",
              "      <th>place_type</th>\n",
              "      <th>confirmed</th>\n",
              "      <th>deaths</th>\n",
              "      <th>order_for_place</th>\n",
              "      <th>is_last</th>\n",
              "      <th>population</th>\n",
              "      <th>codigo_ibge</th>\n",
              "      <th>confirmed_per_100k_inhabitants</th>\n",
              "      <th>death_rate</th>\n",
              "    </tr>\n",
              "  </thead>\n",
              "  <tbody>\n",
              "    <tr>\n",
              "      <th>0</th>\n",
              "      <td>2020-04-02</td>\n",
              "      <td>RR</td>\n",
              "      <td>NaN</td>\n",
              "      <td>state</td>\n",
              "      <td>26</td>\n",
              "      <td>0.0</td>\n",
              "      <td>13</td>\n",
              "      <td>True</td>\n",
              "      <td>605761.0</td>\n",
              "      <td>14.0</td>\n",
              "      <td>4.29212</td>\n",
              "      <td>NaN</td>\n",
              "    </tr>\n",
              "    <tr>\n",
              "      <th>1</th>\n",
              "      <td>2020-04-01</td>\n",
              "      <td>RR</td>\n",
              "      <td>NaN</td>\n",
              "      <td>state</td>\n",
              "      <td>26</td>\n",
              "      <td>0.0</td>\n",
              "      <td>12</td>\n",
              "      <td>False</td>\n",
              "      <td>605761.0</td>\n",
              "      <td>14.0</td>\n",
              "      <td>4.29212</td>\n",
              "      <td>NaN</td>\n",
              "    </tr>\n",
              "  </tbody>\n",
              "</table>\n",
              "</div>"
            ],
            "text/plain": [
              "         date sigla_state  ... confirmed_per_100k_inhabitants death_rate\n",
              "0  2020-04-02          RR  ...                        4.29212        NaN\n",
              "1  2020-04-01          RR  ...                        4.29212        NaN\n",
              "\n",
              "[2 rows x 12 columns]"
            ]
          },
          "metadata": {
            "tags": []
          },
          "execution_count": 2
        }
      ]
    },
    {
      "cell_type": "markdown",
      "metadata": {
        "id": "vXC0ePAMv01u",
        "colab_type": "text"
      },
      "source": [
        "Dados de Lagitude e Longitude dos municípios "
      ]
    },
    {
      "cell_type": "code",
      "metadata": {
        "id": "zysl_XG6vwF0",
        "colab_type": "code",
        "outputId": "ff17f7fc-7123-4d4c-bbad-d81bc14e6a5b",
        "colab": {
          "base_uri": "https://localhost:8080/",
          "height": 107
        }
      },
      "source": [
        "city_lat_long =  pd.read_csv(\"https://raw.githubusercontent.com/fraterno20/fraterno20-python-notebooks/master/Dataset/Dados-Primarios/lat_long_municipios.csv\")\n",
        "city_lat_long.drop(columns = [\"capital\",\"Unnamed: 0\"], inplace = True)\n",
        "city_lat_long.rename(columns = {\"nome\":\"city\"},inplace = True)\n",
        "city_lat_long.head(2)"
      ],
      "execution_count": 3,
      "outputs": [
        {
          "output_type": "execute_result",
          "data": {
            "text/html": [
              "<div>\n",
              "<style scoped>\n",
              "    .dataframe tbody tr th:only-of-type {\n",
              "        vertical-align: middle;\n",
              "    }\n",
              "\n",
              "    .dataframe tbody tr th {\n",
              "        vertical-align: top;\n",
              "    }\n",
              "\n",
              "    .dataframe thead th {\n",
              "        text-align: right;\n",
              "    }\n",
              "</style>\n",
              "<table border=\"1\" class=\"dataframe\">\n",
              "  <thead>\n",
              "    <tr style=\"text-align: right;\">\n",
              "      <th></th>\n",
              "      <th>codigo_ibge</th>\n",
              "      <th>city</th>\n",
              "      <th>latitude</th>\n",
              "      <th>longitude</th>\n",
              "      <th>codigo_uf</th>\n",
              "    </tr>\n",
              "  </thead>\n",
              "  <tbody>\n",
              "    <tr>\n",
              "      <th>0</th>\n",
              "      <td>5200050</td>\n",
              "      <td>Abadia de Goiás</td>\n",
              "      <td>-16.7573</td>\n",
              "      <td>-49.4412</td>\n",
              "      <td>52</td>\n",
              "    </tr>\n",
              "    <tr>\n",
              "      <th>1</th>\n",
              "      <td>3100104</td>\n",
              "      <td>Abadia dos Dourados</td>\n",
              "      <td>-18.4831</td>\n",
              "      <td>-47.3916</td>\n",
              "      <td>31</td>\n",
              "    </tr>\n",
              "  </tbody>\n",
              "</table>\n",
              "</div>"
            ],
            "text/plain": [
              "   codigo_ibge                 city  latitude  longitude  codigo_uf\n",
              "0      5200050      Abadia de Goiás  -16.7573   -49.4412         52\n",
              "1      3100104  Abadia dos Dourados  -18.4831   -47.3916         31"
            ]
          },
          "metadata": {
            "tags": []
          },
          "execution_count": 3
        }
      ]
    },
    {
      "cell_type": "markdown",
      "metadata": {
        "id": "oEpE3j9rwcjX",
        "colab_type": "text"
      },
      "source": [
        "Base do IBGE, contendo código do município, nome do estado, do município, e o código do estado"
      ]
    },
    {
      "cell_type": "code",
      "metadata": {
        "id": "HurIxA8KwvSB",
        "colab_type": "code",
        "outputId": "5add6d89-13c6-444e-cc8c-7980e2edc4ad",
        "colab": {
          "base_uri": "https://localhost:8080/",
          "height": 107
        }
      },
      "source": [
        "data_ibge = pd.read_csv(\"https://raw.githubusercontent.com/fraterno20/fraterno20-python-notebooks/master/Dataset/Dados-Primarios/dados_ibge.csv\")\n",
        "data_ibge.drop(columns = [\"Mesorregião Geográfica\",\"Nome_Mesorregião\",\"Microrregião Geográfica\",\"Nome_Microrregião\",\"Município\",\"Unnamed: 0\"], inplace = True)\n",
        "data_ibge.rename(columns = {\"Nome_Município\":\"city\",\"Nome_UF\":\"state\",\"UF\":\"codigo_uf\",\"Código Município Completo\":\"codigo_ibge\"},inplace = True)\n",
        "data_ibge.head(2)"
      ],
      "execution_count": 4,
      "outputs": [
        {
          "output_type": "execute_result",
          "data": {
            "text/html": [
              "<div>\n",
              "<style scoped>\n",
              "    .dataframe tbody tr th:only-of-type {\n",
              "        vertical-align: middle;\n",
              "    }\n",
              "\n",
              "    .dataframe tbody tr th {\n",
              "        vertical-align: top;\n",
              "    }\n",
              "\n",
              "    .dataframe thead th {\n",
              "        text-align: right;\n",
              "    }\n",
              "</style>\n",
              "<table border=\"1\" class=\"dataframe\">\n",
              "  <thead>\n",
              "    <tr style=\"text-align: right;\">\n",
              "      <th></th>\n",
              "      <th>codigo_uf</th>\n",
              "      <th>state</th>\n",
              "      <th>codigo_ibge</th>\n",
              "      <th>city</th>\n",
              "    </tr>\n",
              "  </thead>\n",
              "  <tbody>\n",
              "    <tr>\n",
              "      <th>0</th>\n",
              "      <td>11</td>\n",
              "      <td>Rondônia</td>\n",
              "      <td>1100015</td>\n",
              "      <td>Alta Floresta D'Oeste</td>\n",
              "    </tr>\n",
              "    <tr>\n",
              "      <th>1</th>\n",
              "      <td>11</td>\n",
              "      <td>Rondônia</td>\n",
              "      <td>1100379</td>\n",
              "      <td>Alto Alegre dos Parecis</td>\n",
              "    </tr>\n",
              "  </tbody>\n",
              "</table>\n",
              "</div>"
            ],
            "text/plain": [
              "   codigo_uf     state  codigo_ibge                     city\n",
              "0         11  Rondônia      1100015    Alta Floresta D'Oeste\n",
              "1         11  Rondônia      1100379  Alto Alegre dos Parecis"
            ]
          },
          "metadata": {
            "tags": []
          },
          "execution_count": 4
        }
      ]
    },
    {
      "cell_type": "markdown",
      "metadata": {
        "id": "jZ8ltC8JxBZE",
        "colab_type": "text"
      },
      "source": [
        "###Manipulação de dataframes"
      ]
    },
    {
      "cell_type": "markdown",
      "metadata": {
        "id": "tYMU7OsAxHh-",
        "colab_type": "text"
      },
      "source": [
        "Juntando a tabela da localização geográfica com a dos dados do ibge"
      ]
    },
    {
      "cell_type": "code",
      "metadata": {
        "id": "nNA__eDlxEa2",
        "colab_type": "code",
        "outputId": "dfe89ff7-f241-4661-9000-42bb29a51613",
        "colab": {
          "base_uri": "https://localhost:8080/",
          "height": 107
        }
      },
      "source": [
        "city_lat_long = city_lat_long.merge(data_ibge, on = [\"city\",\"codigo_ibge\",\"codigo_uf\"],sort = \"city\")\n",
        "city_lat_long.head(2)"
      ],
      "execution_count": 5,
      "outputs": [
        {
          "output_type": "execute_result",
          "data": {
            "text/html": [
              "<div>\n",
              "<style scoped>\n",
              "    .dataframe tbody tr th:only-of-type {\n",
              "        vertical-align: middle;\n",
              "    }\n",
              "\n",
              "    .dataframe tbody tr th {\n",
              "        vertical-align: top;\n",
              "    }\n",
              "\n",
              "    .dataframe thead th {\n",
              "        text-align: right;\n",
              "    }\n",
              "</style>\n",
              "<table border=\"1\" class=\"dataframe\">\n",
              "  <thead>\n",
              "    <tr style=\"text-align: right;\">\n",
              "      <th></th>\n",
              "      <th>codigo_ibge</th>\n",
              "      <th>city</th>\n",
              "      <th>latitude</th>\n",
              "      <th>longitude</th>\n",
              "      <th>codigo_uf</th>\n",
              "      <th>state</th>\n",
              "    </tr>\n",
              "  </thead>\n",
              "  <tbody>\n",
              "    <tr>\n",
              "      <th>0</th>\n",
              "      <td>5200050</td>\n",
              "      <td>Abadia de Goiás</td>\n",
              "      <td>-16.7573</td>\n",
              "      <td>-49.4412</td>\n",
              "      <td>52</td>\n",
              "      <td>Goiás</td>\n",
              "    </tr>\n",
              "    <tr>\n",
              "      <th>1</th>\n",
              "      <td>3100104</td>\n",
              "      <td>Abadia dos Dourados</td>\n",
              "      <td>-18.4831</td>\n",
              "      <td>-47.3916</td>\n",
              "      <td>31</td>\n",
              "      <td>Minas Gerais</td>\n",
              "    </tr>\n",
              "  </tbody>\n",
              "</table>\n",
              "</div>"
            ],
            "text/plain": [
              "   codigo_ibge                 city  ...  codigo_uf         state\n",
              "0      5200050      Abadia de Goiás  ...         52         Goiás\n",
              "1      3100104  Abadia dos Dourados  ...         31  Minas Gerais\n",
              "\n",
              "[2 rows x 6 columns]"
            ]
          },
          "metadata": {
            "tags": []
          },
          "execution_count": 5
        }
      ]
    },
    {
      "cell_type": "markdown",
      "metadata": {
        "id": "5HrC7EZl5by7",
        "colab_type": "text"
      },
      "source": [
        "Merge de tabelas de caso e localização geográfica\n"
      ]
    },
    {
      "cell_type": "code",
      "metadata": {
        "id": "dEqV57kS5Fux",
        "colab_type": "code",
        "outputId": "8c3a958f-35cb-4c52-f8db-e8a27a39b570",
        "colab": {
          "base_uri": "https://localhost:8080/",
          "height": 161
        }
      },
      "source": [
        "data_brasil = data_brasil.merge(city_lat_long, on = [\"city\",\"codigo_ibge\"],sort = \"date\",how=\"outer\")\n",
        "data_brasil.dropna(subset=[\"date\"],inplace=True)\n",
        "data_brasil.head(2)"
      ],
      "execution_count": 6,
      "outputs": [
        {
          "output_type": "execute_result",
          "data": {
            "text/html": [
              "<div>\n",
              "<style scoped>\n",
              "    .dataframe tbody tr th:only-of-type {\n",
              "        vertical-align: middle;\n",
              "    }\n",
              "\n",
              "    .dataframe tbody tr th {\n",
              "        vertical-align: top;\n",
              "    }\n",
              "\n",
              "    .dataframe thead th {\n",
              "        text-align: right;\n",
              "    }\n",
              "</style>\n",
              "<table border=\"1\" class=\"dataframe\">\n",
              "  <thead>\n",
              "    <tr style=\"text-align: right;\">\n",
              "      <th></th>\n",
              "      <th>date</th>\n",
              "      <th>sigla_state</th>\n",
              "      <th>city</th>\n",
              "      <th>place_type</th>\n",
              "      <th>confirmed</th>\n",
              "      <th>deaths</th>\n",
              "      <th>order_for_place</th>\n",
              "      <th>is_last</th>\n",
              "      <th>population</th>\n",
              "      <th>codigo_ibge</th>\n",
              "      <th>confirmed_per_100k_inhabitants</th>\n",
              "      <th>death_rate</th>\n",
              "      <th>latitude</th>\n",
              "      <th>longitude</th>\n",
              "      <th>codigo_uf</th>\n",
              "      <th>state</th>\n",
              "    </tr>\n",
              "  </thead>\n",
              "  <tbody>\n",
              "    <tr>\n",
              "      <th>3</th>\n",
              "      <td>2020-04-02</td>\n",
              "      <td>PA</td>\n",
              "      <td>Abaetetuba</td>\n",
              "      <td>city</td>\n",
              "      <td>1.0</td>\n",
              "      <td>0.0</td>\n",
              "      <td>3.0</td>\n",
              "      <td>True</td>\n",
              "      <td>157698.0</td>\n",
              "      <td>1500107.0</td>\n",
              "      <td>0.63412</td>\n",
              "      <td>NaN</td>\n",
              "      <td>-1.72183</td>\n",
              "      <td>-48.8788</td>\n",
              "      <td>15.0</td>\n",
              "      <td>Pará</td>\n",
              "    </tr>\n",
              "    <tr>\n",
              "      <th>4</th>\n",
              "      <td>2020-04-01</td>\n",
              "      <td>PA</td>\n",
              "      <td>Abaetetuba</td>\n",
              "      <td>city</td>\n",
              "      <td>1.0</td>\n",
              "      <td>0.0</td>\n",
              "      <td>2.0</td>\n",
              "      <td>False</td>\n",
              "      <td>157698.0</td>\n",
              "      <td>1500107.0</td>\n",
              "      <td>0.63412</td>\n",
              "      <td>NaN</td>\n",
              "      <td>-1.72183</td>\n",
              "      <td>-48.8788</td>\n",
              "      <td>15.0</td>\n",
              "      <td>Pará</td>\n",
              "    </tr>\n",
              "  </tbody>\n",
              "</table>\n",
              "</div>"
            ],
            "text/plain": [
              "         date sigla_state        city  ... longitude  codigo_uf  state\n",
              "3  2020-04-02          PA  Abaetetuba  ...  -48.8788       15.0   Pará\n",
              "4  2020-04-01          PA  Abaetetuba  ...  -48.8788       15.0   Pará\n",
              "\n",
              "[2 rows x 16 columns]"
            ]
          },
          "metadata": {
            "tags": []
          },
          "execution_count": 6
        }
      ]
    },
    {
      "cell_type": "markdown",
      "metadata": {
        "id": "ky-T2mQh3Ayl",
        "colab_type": "text"
      },
      "source": [
        "Retirando valores nulos e passando o codigo do ibge pra inteiro"
      ]
    },
    {
      "cell_type": "code",
      "metadata": {
        "id": "QCLdDJ_s3AN8",
        "colab_type": "code",
        "outputId": "d1f46971-932a-4a61-f071-3ab0ea91865b",
        "colab": {
          "base_uri": "https://localhost:8080/",
          "height": 161
        }
      },
      "source": [
        "data_brasil.replace(np.nan, 0, inplace = True)\n",
        "data_brasil[\"codigo_ibge\"] = data_brasil[\"codigo_ibge\"].astype(\"int64\")\n",
        "data_brasil.head(2)"
      ],
      "execution_count": 7,
      "outputs": [
        {
          "output_type": "execute_result",
          "data": {
            "text/html": [
              "<div>\n",
              "<style scoped>\n",
              "    .dataframe tbody tr th:only-of-type {\n",
              "        vertical-align: middle;\n",
              "    }\n",
              "\n",
              "    .dataframe tbody tr th {\n",
              "        vertical-align: top;\n",
              "    }\n",
              "\n",
              "    .dataframe thead th {\n",
              "        text-align: right;\n",
              "    }\n",
              "</style>\n",
              "<table border=\"1\" class=\"dataframe\">\n",
              "  <thead>\n",
              "    <tr style=\"text-align: right;\">\n",
              "      <th></th>\n",
              "      <th>date</th>\n",
              "      <th>sigla_state</th>\n",
              "      <th>city</th>\n",
              "      <th>place_type</th>\n",
              "      <th>confirmed</th>\n",
              "      <th>deaths</th>\n",
              "      <th>order_for_place</th>\n",
              "      <th>is_last</th>\n",
              "      <th>population</th>\n",
              "      <th>codigo_ibge</th>\n",
              "      <th>confirmed_per_100k_inhabitants</th>\n",
              "      <th>death_rate</th>\n",
              "      <th>latitude</th>\n",
              "      <th>longitude</th>\n",
              "      <th>codigo_uf</th>\n",
              "      <th>state</th>\n",
              "    </tr>\n",
              "  </thead>\n",
              "  <tbody>\n",
              "    <tr>\n",
              "      <th>3</th>\n",
              "      <td>2020-04-02</td>\n",
              "      <td>PA</td>\n",
              "      <td>Abaetetuba</td>\n",
              "      <td>city</td>\n",
              "      <td>1.0</td>\n",
              "      <td>0.0</td>\n",
              "      <td>3.0</td>\n",
              "      <td>True</td>\n",
              "      <td>157698.0</td>\n",
              "      <td>1500107</td>\n",
              "      <td>0.63412</td>\n",
              "      <td>0.0</td>\n",
              "      <td>-1.72183</td>\n",
              "      <td>-48.8788</td>\n",
              "      <td>15.0</td>\n",
              "      <td>Pará</td>\n",
              "    </tr>\n",
              "    <tr>\n",
              "      <th>4</th>\n",
              "      <td>2020-04-01</td>\n",
              "      <td>PA</td>\n",
              "      <td>Abaetetuba</td>\n",
              "      <td>city</td>\n",
              "      <td>1.0</td>\n",
              "      <td>0.0</td>\n",
              "      <td>2.0</td>\n",
              "      <td>False</td>\n",
              "      <td>157698.0</td>\n",
              "      <td>1500107</td>\n",
              "      <td>0.63412</td>\n",
              "      <td>0.0</td>\n",
              "      <td>-1.72183</td>\n",
              "      <td>-48.8788</td>\n",
              "      <td>15.0</td>\n",
              "      <td>Pará</td>\n",
              "    </tr>\n",
              "  </tbody>\n",
              "</table>\n",
              "</div>"
            ],
            "text/plain": [
              "         date sigla_state        city  ... longitude  codigo_uf  state\n",
              "3  2020-04-02          PA  Abaetetuba  ...  -48.8788       15.0   Pará\n",
              "4  2020-04-01          PA  Abaetetuba  ...  -48.8788       15.0   Pará\n",
              "\n",
              "[2 rows x 16 columns]"
            ]
          },
          "metadata": {
            "tags": []
          },
          "execution_count": 7
        }
      ]
    },
    {
      "cell_type": "markdown",
      "metadata": {
        "id": "7YnRr7PQ6G-N",
        "colab_type": "text"
      },
      "source": [
        "Dataset com os ultimos boletins"
      ]
    },
    {
      "cell_type": "code",
      "metadata": {
        "id": "Q9o2pfjc6EoO",
        "colab_type": "code",
        "outputId": "32f32fac-5ade-4e3c-ade6-3ef359d95bf9",
        "colab": {
          "base_uri": "https://localhost:8080/",
          "height": 161
        }
      },
      "source": [
        "data_brasil_last_boletim = data_brasil.loc[data_brasil[\"is_last\"] == True,:]\n",
        "data_brasil_last_boletim.head(2)"
      ],
      "execution_count": 8,
      "outputs": [
        {
          "output_type": "execute_result",
          "data": {
            "text/html": [
              "<div>\n",
              "<style scoped>\n",
              "    .dataframe tbody tr th:only-of-type {\n",
              "        vertical-align: middle;\n",
              "    }\n",
              "\n",
              "    .dataframe tbody tr th {\n",
              "        vertical-align: top;\n",
              "    }\n",
              "\n",
              "    .dataframe thead th {\n",
              "        text-align: right;\n",
              "    }\n",
              "</style>\n",
              "<table border=\"1\" class=\"dataframe\">\n",
              "  <thead>\n",
              "    <tr style=\"text-align: right;\">\n",
              "      <th></th>\n",
              "      <th>date</th>\n",
              "      <th>sigla_state</th>\n",
              "      <th>city</th>\n",
              "      <th>place_type</th>\n",
              "      <th>confirmed</th>\n",
              "      <th>deaths</th>\n",
              "      <th>order_for_place</th>\n",
              "      <th>is_last</th>\n",
              "      <th>population</th>\n",
              "      <th>codigo_ibge</th>\n",
              "      <th>confirmed_per_100k_inhabitants</th>\n",
              "      <th>death_rate</th>\n",
              "      <th>latitude</th>\n",
              "      <th>longitude</th>\n",
              "      <th>codigo_uf</th>\n",
              "      <th>state</th>\n",
              "    </tr>\n",
              "  </thead>\n",
              "  <tbody>\n",
              "    <tr>\n",
              "      <th>3</th>\n",
              "      <td>2020-04-02</td>\n",
              "      <td>PA</td>\n",
              "      <td>Abaetetuba</td>\n",
              "      <td>city</td>\n",
              "      <td>1.0</td>\n",
              "      <td>0.0</td>\n",
              "      <td>3.0</td>\n",
              "      <td>True</td>\n",
              "      <td>157698.0</td>\n",
              "      <td>1500107</td>\n",
              "      <td>0.63412</td>\n",
              "      <td>0.0</td>\n",
              "      <td>-1.72183</td>\n",
              "      <td>-48.8788</td>\n",
              "      <td>15.0</td>\n",
              "      <td>Pará</td>\n",
              "    </tr>\n",
              "    <tr>\n",
              "      <th>27</th>\n",
              "      <td>2020-04-01</td>\n",
              "      <td>AC</td>\n",
              "      <td>Acrelândia</td>\n",
              "      <td>city</td>\n",
              "      <td>8.0</td>\n",
              "      <td>0.0</td>\n",
              "      <td>4.0</td>\n",
              "      <td>True</td>\n",
              "      <td>15256.0</td>\n",
              "      <td>1200013</td>\n",
              "      <td>52.43838</td>\n",
              "      <td>0.0</td>\n",
              "      <td>-9.82581</td>\n",
              "      <td>-66.8972</td>\n",
              "      <td>12.0</td>\n",
              "      <td>Acre</td>\n",
              "    </tr>\n",
              "  </tbody>\n",
              "</table>\n",
              "</div>"
            ],
            "text/plain": [
              "          date sigla_state        city  ... longitude  codigo_uf  state\n",
              "3   2020-04-02          PA  Abaetetuba  ...  -48.8788       15.0   Pará\n",
              "27  2020-04-01          AC  Acrelândia  ...  -66.8972       12.0   Acre\n",
              "\n",
              "[2 rows x 16 columns]"
            ]
          },
          "metadata": {
            "tags": []
          },
          "execution_count": 8
        }
      ]
    },
    {
      "cell_type": "markdown",
      "metadata": {
        "id": "v6NmeRwz2fpk",
        "colab_type": "text"
      },
      "source": [
        "###Download CSV's"
      ]
    },
    {
      "cell_type": "code",
      "metadata": {
        "id": "pvzpCnV-2mJv",
        "colab_type": "code",
        "colab": {}
      },
      "source": [
        "data_brasil.to_csv(\"data_brasil.csv\")"
      ],
      "execution_count": 0,
      "outputs": []
    },
    {
      "cell_type": "code",
      "metadata": {
        "id": "phajooEv6VbF",
        "colab_type": "code",
        "colab": {}
      },
      "source": [
        "data_brasil_last_boletim.to_csv(\"data_brasil_last_boletim.csv\")"
      ],
      "execution_count": 0,
      "outputs": []
    }
  ]
}